{
  "nbformat": 4,
  "nbformat_minor": 0,
  "metadata": {
    "colab": {
      "name": "NewSampling_Vig_window_89.ipynb",
      "provenance": []
    },
    "kernelspec": {
      "display_name": "Python 3",
      "name": "python3"
    },
    "language_info": {
      "name": "python"
    }
  },
  "cells": [
    {
      "cell_type": "code",
      "metadata": {
        "colab": {
          "base_uri": "https://localhost:8080/"
        },
        "id": "fJXKuBQg2COO",
        "outputId": "6e6f0330-9f54-46f4-b574-e745d084eab9"
      },
      "source": [
        "from google.colab import drive\n",
        "drive.mount('/content/gdrive')"
      ],
      "execution_count": 1,
      "outputs": [
        {
          "output_type": "stream",
          "text": [
            "Mounted at /content/gdrive\n"
          ],
          "name": "stdout"
        }
      ]
    },
    {
      "cell_type": "code",
      "metadata": {
        "colab": {
          "base_uri": "https://localhost:8080/"
        },
        "id": "pr4fJQ9U25EP",
        "outputId": "b7a363b6-b5dd-477e-b42a-5d2140da8834"
      },
      "source": [
        "import imblearn\n",
        "print(imblearn.__version__)"
      ],
      "execution_count": 2,
      "outputs": [
        {
          "output_type": "stream",
          "text": [
            "/usr/local/lib/python3.7/dist-packages/sklearn/externals/six.py:31: FutureWarning: The module is deprecated in version 0.21 and will be removed in version 0.23 since we've dropped support for Python 2.7. Please rely on the official version of six (https://pypi.org/project/six/).\n",
            "  \"(https://pypi.org/project/six/).\", FutureWarning)\n"
          ],
          "name": "stderr"
        },
        {
          "output_type": "stream",
          "text": [
            "0.4.3\n"
          ],
          "name": "stdout"
        },
        {
          "output_type": "stream",
          "text": [
            "/usr/local/lib/python3.7/dist-packages/sklearn/utils/deprecation.py:144: FutureWarning: The sklearn.neighbors.base module is  deprecated in version 0.22 and will be removed in version 0.24. The corresponding classes / functions should instead be imported from sklearn.neighbors. Anything that cannot be imported from sklearn.neighbors is now part of the private API.\n",
            "  warnings.warn(message, FutureWarning)\n"
          ],
          "name": "stderr"
        }
      ]
    },
    {
      "cell_type": "code",
      "metadata": {
        "id": "6-wL53_X25G_"
      },
      "source": [
        "import pandas as pd\n",
        "from sklearn.preprocessing import RobustScaler, OneHotEncoder\n",
        "import random\n",
        "import numpy as np\n",
        "from scipy import stats\n",
        "from keras.models import Sequential\n",
        "from keras.layers import Dense, Flatten, Dropout, LSTM, SimpleRNN, TimeDistributed, Activation, InputLayer\n",
        "from keras.optimizers import Adam\n",
        "from tensorflow.python.keras import regularizers\n",
        "from sklearn.utils import class_weight\n",
        "from keras import backend as K\n",
        "import statistics as st\n",
        "from sklearn.preprocessing import StandardScaler\n",
        "from numpy import genfromtxt\n",
        "from keras.layers.normalization import BatchNormalization\n",
        "from sklearn.preprocessing import FunctionTransformer\n",
        "from imblearn.over_sampling import SMOTE\n",
        "from numpy import dstack\n",
        "from keras.utils import to_categorical\n",
        "from keras.layers.convolutional import Conv1D\n",
        "from keras.layers.convolutional import MaxPooling1D\n",
        "import tensorflow as tf\n",
        "\n",
        "scaler = StandardScaler()"
      ],
      "execution_count": 3,
      "outputs": []
    },
    {
      "cell_type": "code",
      "metadata": {
        "id": "W_ZMZV0v25Jh"
      },
      "source": [
        "X_files = ['subject_001_01__x.csv', 'subject_001_02__x.csv', \n",
        "           'subject_001_03__x.csv', 'subject_001_04__x.csv',\n",
        "           'subject_001_06__x.csv',\n",
        "           'subject_001_07__x.csv', 'subject_001_08__x.csv',\n",
        "           'subject_002_01__x.csv', 'subject_002_02__x.csv',\n",
        "           'subject_002_03__x.csv',\n",
        "           'subject_002_05__x.csv', 'subject_003_01__x.csv',\n",
        "           'subject_005_02__x.csv',\n",
        "           'subject_005_03__x.csv', 'subject_006_01__x.csv',\n",
        "           'subject_006_02__x.csv', 'subject_006_03__x.csv',\n",
        "           'subject_007_01__x.csv',\n",
        "           'subject_007_03__x.csv', 'subject_007_04__x.csv',\n",
        "           'subject_008_01__x.csv']\n",
        "\n",
        "X_test_files = ['subject_001_05__x.csv','subject_005_01__x.csv']\n",
        "X_val_files = ['subject_007_02__x.csv','subject_002_04__x.csv']\n",
        "\n",
        "y_files = ['subject_001_01__y.csv', 'subject_001_02__y.csv', \n",
        "           'subject_001_03__y.csv', 'subject_001_04__y.csv',\n",
        "           'subject_001_06__y.csv',\n",
        "           'subject_001_07__y.csv', 'subject_001_08__y.csv',\n",
        "           'subject_002_01__y.csv', 'subject_002_02__y.csv',\n",
        "           'subject_002_03__y.csv',\n",
        "           'subject_002_05__y.csv', 'subject_003_01__y.csv',\n",
        "           'subject_005_02__y.csv',\n",
        "           'subject_005_03__y.csv', 'subject_006_01__y.csv',\n",
        "           'subject_006_02__y.csv', 'subject_006_03__y.csv',\n",
        "           'subject_007_01__y.csv',\n",
        "           'subject_007_03__y.csv', 'subject_007_04__y.csv',\n",
        "           'subject_008_01__y.csv']\n",
        "\n",
        "y_test_files = ['subject_001_05__y.csv', 'subject_005_01__y.csv']\n",
        "y_val_files = ['subject_007_02__y.csv',  'subject_002_04__y.csv']\n",
        "\n",
        "# val_X = ['subject_003_02__x.csv', 'subject_003_03__x.csv',\n",
        "#          'subject_004_01__x.csv', 'subject_004_02__x.csv']\n",
        "# val_X_t = ['subject_003_02__x_time.csv', 'subject_003_03__x_time.csv',\n",
        "#            'subject_004_01__x_time.csv', 'subject_004_02__x_time.csv']\n",
        "# val_y = ['subject_003_02__y.csv', 'subject_003_03__y.csv',\n",
        "#          'subject_004_01__y.csv', 'subject_004_02__y.csv']\n",
        "# val_y_t = ['subject_003_02__y_time.csv', 'subject_003_03__y_time.csv',\n",
        "#            'subject_004_01__y_time.csv', 'subject_004_02__y_time.csv']\n",
        "\n",
        "# X_predict_files = ['subject_009_01__x.csv', 'subject_010_01__x.csv', 'subject_011_01__x.csv', 'subject_012_01__x.csv']"
      ],
      "execution_count": 4,
      "outputs": []
    },
    {
      "cell_type": "code",
      "metadata": {
        "colab": {
          "base_uri": "https://localhost:8080/"
        },
        "id": "FW3EV1tD6Rpg",
        "outputId": "2e06c49e-5703-4628-a316-4601025cc36e"
      },
      "source": [
        "cd '/content/gdrive/MyDrive/data/'"
      ],
      "execution_count": 5,
      "outputs": [
        {
          "output_type": "stream",
          "text": [
            "/content/gdrive/MyDrive/data\n"
          ],
          "name": "stdout"
        }
      ]
    },
    {
      "cell_type": "code",
      "metadata": {
        "id": "A3u6Gghq25MJ"
      },
      "source": [
        "# df_y = pd.read_csv(y_files[0])\n",
        "# df_X =pd.read_csv(X_files[0])"
      ],
      "execution_count": null,
      "outputs": []
    },
    {
      "cell_type": "code",
      "metadata": {
        "colab": {
          "base_uri": "https://localhost:8080/",
          "height": 162
        },
        "id": "LQ4XB1h09cZg",
        "outputId": "2932eb4e-3df7-4cb6-8d32-c6294a765d77"
      },
      "source": [
        "\n"
      ],
      "execution_count": null,
      "outputs": [
        {
          "output_type": "error",
          "ename": "AttributeError",
          "evalue": "ignored",
          "traceback": [
            "\u001b[0;31m---------------------------------------------------------------------------\u001b[0m",
            "\u001b[0;31mAttributeError\u001b[0m                            Traceback (most recent call last)",
            "\u001b[0;32m<ipython-input-80-04bf13d247f0>\u001b[0m in \u001b[0;36m<module>\u001b[0;34m()\u001b[0m\n\u001b[0;32m----> 1\u001b[0;31m \u001b[0mdf_X\u001b[0m\u001b[0;34m.\u001b[0m\u001b[0mvalue_counts\u001b[0m\u001b[0;34m(\u001b[0m\u001b[0;34m)\u001b[0m\u001b[0;34m\u001b[0m\u001b[0;34m\u001b[0m\u001b[0m\n\u001b[0m",
            "\u001b[0;31mAttributeError\u001b[0m: 'numpy.ndarray' object has no attribute 'value_counts'"
          ]
        }
      ]
    },
    {
      "cell_type": "code",
      "metadata": {
        "id": "42hdWlWC9i3y"
      },
      "source": [
        "# from sklearn.preprocessing import StandardScaler\n",
        "# sc=StandardScaler()\n",
        "# df_X=sc.fit_transform(df_X)"
      ],
      "execution_count": null,
      "outputs": []
    },
    {
      "cell_type": "code",
      "metadata": {
        "colab": {
          "base_uri": "https://localhost:8080/"
        },
        "id": "ovcVah3P6sHz",
        "outputId": "1d28ba60-49ff-4d10-c011-7894ef74b693"
      },
      "source": [
        "# df_y['0'][0]"
      ],
      "execution_count": null,
      "outputs": [
        {
          "output_type": "execute_result",
          "data": {
            "text/plain": [
              "0"
            ]
          },
          "metadata": {
            "tags": []
          },
          "execution_count": 14
        }
      ]
    },
    {
      "cell_type": "code",
      "metadata": {
        "id": "MjVMaWYE25Ow"
      },
      "source": [
        "# a=[]\n",
        "# for i in range(0, len(df_y)):\n",
        "#   a+=[df_y['0'][i]] * 4\n"
      ],
      "execution_count": null,
      "outputs": []
    },
    {
      "cell_type": "code",
      "metadata": {
        "colab": {
          "base_uri": "https://localhost:8080/"
        },
        "id": "rFHJXXfy25RP",
        "outputId": "dce48134-ffca-4c7e-d2fc-b6b8ba3e685d"
      },
      "source": [
        "# upsampled_df = pd.DataFrame(a)\n",
        "# diff = df_X.shape[0] - upsampled_df.shape[0]\n",
        "# df_X = df_X.iloc[:-diff,:]"
      ],
      "execution_count": null,
      "outputs": [
        {
          "output_type": "execute_result",
          "data": {
            "text/plain": [
              "37888"
            ]
          },
          "metadata": {
            "tags": []
          },
          "execution_count": 24
        }
      ]
    },
    {
      "cell_type": "code",
      "metadata": {
        "id": "GAqWha2o_K2C"
      },
      "source": [
        "final_x_train= []\n",
        "final_y_train=[]\n",
        "from collections import Counter\n"
      ],
      "execution_count": 6,
      "outputs": []
    },
    {
      "cell_type": "code",
      "metadata": {
        "id": "Hm6vgSWCExfm"
      },
      "source": [
        "def most_frequent(List):\n",
        "    occurence_count = Counter(List)\n",
        "    return occurence_count.most_common(1)[0][0]"
      ],
      "execution_count": 7,
      "outputs": []
    },
    {
      "cell_type": "code",
      "metadata": {
        "id": "O4Y_hSN6Lxe6"
      },
      "source": [
        "def mode(a, axis=0):\n",
        "    scores = np.unique(np.ravel(a))       # get ALL unique values\n",
        "    testshape = list(a.shape)\n",
        "    testshape[axis] = 1\n",
        "    oldmostfreq = np.zeros(testshape)\n",
        "    oldcounts = np.zeros(testshape)\n",
        "\n",
        "    for score in scores:\n",
        "        template = (a == score)\n",
        "        counts = np.expand_dims(np.sum(template, axis),axis)\n",
        "        mostfrequent = np.where(counts > oldcounts, score, oldmostfreq)\n",
        "        oldcounts = np.maximum(counts, oldcounts)\n",
        "        oldmostfreq = mostfrequent\n",
        "\n",
        "    return mostfrequent, oldcounts"
      ],
      "execution_count": 8,
      "outputs": []
    },
    {
      "cell_type": "code",
      "metadata": {
        "id": "-SBZdInz8PrG"
      },
      "source": [
        "## preprocessing for training data\n",
        "for i in range(len(y_files)):\n",
        "  X_df = pd.read_csv(X_files[i])\n",
        "  y_df = pd.read_csv(y_files[i])\n",
        "  a=[]\n",
        "  for i in range(0, len(y_df)):\n",
        "    a+=[y_df['0'][i]] * 4\n",
        "  upsampled_df = pd.DataFrame(a)\n",
        "  diff = X_df.shape[0] - upsampled_df.shape[0]\n",
        "  X_df = X_df.iloc[:-diff,:]\n",
        "\n",
        "  sc=StandardScaler()\n",
        "  X_df=sc.fit_transform(X_df)\n",
        "\n",
        "  x_arr=[]\n",
        "  y_arr=[]\n",
        "\n",
        "  for j in range(len(X_df)-30):\n",
        "            window=30\n",
        "            df = X_df[j].copy()\n",
        "            df_len = len(df)\n",
        "            x_arr.append(X_df[j:(j+window)]) \n",
        "            y_arr.append(mode(upsampled_df.iloc[j:(j+window)])[0])\n",
        "  final_x_train.append(np.array(x_arr))\n",
        "  final_y_train.append(np.array(y_arr).reshape(-1,1))\n",
        "\n"
      ],
      "execution_count": 9,
      "outputs": []
    },
    {
      "cell_type": "code",
      "metadata": {
        "id": "kz-Pfuye25Tq"
      },
      "source": [
        "trainX, trainY = np.concatenate(final_x_train), np.concatenate(final_y_train)"
      ],
      "execution_count": 10,
      "outputs": []
    },
    {
      "cell_type": "code",
      "metadata": {
        "colab": {
          "base_uri": "https://localhost:8080/"
        },
        "id": "Wvo70KKTERLw",
        "outputId": "6608b65c-27f0-4f2d-e27e-d799e4368e52"
      },
      "source": [
        "trainX.shape, trainY.shape"
      ],
      "execution_count": 11,
      "outputs": [
        {
          "output_type": "execute_result",
          "data": {
            "text/plain": [
              "((991762, 30, 6), (991762, 1))"
            ]
          },
          "metadata": {
            "tags": []
          },
          "execution_count": 11
        }
      ]
    },
    {
      "cell_type": "code",
      "metadata": {
        "colab": {
          "base_uri": "https://localhost:8080/"
        },
        "id": "sfC71I4DPbBI",
        "outputId": "1aa4ce86-efb5-40e0-b335-5009c9ff9137"
      },
      "source": [
        ""
      ],
      "execution_count": null,
      "outputs": [
        {
          "output_type": "execute_result",
          "data": {
            "text/plain": [
              "array([0.])"
            ]
          },
          "metadata": {
            "tags": []
          },
          "execution_count": 108
        }
      ]
    },
    {
      "cell_type": "code",
      "metadata": {
        "id": "i7ptJWgKPTQk"
      },
      "source": [
        ""
      ],
      "execution_count": null,
      "outputs": []
    },
    {
      "cell_type": "code",
      "metadata": {
        "colab": {
          "base_uri": "https://localhost:8080/"
        },
        "id": "CFUrnsaDI16V",
        "outputId": "4c636231-c17e-44f6-beee-d4140f50966a"
      },
      "source": [
        "t = pd.DataFrame(trainY)\n",
        "t.value_counts()"
      ],
      "execution_count": 12,
      "outputs": [
        {
          "output_type": "execute_result",
          "data": {
            "text/plain": [
              "0.0    734784\n",
              "3.0    163013\n",
              "2.0     53229\n",
              "1.0     40736\n",
              "dtype: int64"
            ]
          },
          "metadata": {
            "tags": []
          },
          "execution_count": 12
        }
      ]
    },
    {
      "cell_type": "code",
      "metadata": {
        "id": "WnXgqjCyGAfh"
      },
      "source": [
        "final_x_val = []\n",
        "final_y_val = []"
      ],
      "execution_count": 13,
      "outputs": []
    },
    {
      "cell_type": "code",
      "metadata": {
        "id": "ynPPtAQBGAiI"
      },
      "source": [
        "## preprocessing for val data\n",
        "for i in range(len(y_val_files)):\n",
        "  X_df = pd.read_csv(X_val_files[i])\n",
        "  y_df = pd.read_csv(y_val_files[i])\n",
        "  a=[]\n",
        "  for i in range(0, len(y_df)):\n",
        "    a+=[y_df['0'][i]] * 4\n",
        "  upsampled_df = pd.DataFrame(a)\n",
        "  diff = X_df.shape[0] - upsampled_df.shape[0]\n",
        "  X_df = X_df.iloc[:-diff,:]\n",
        "\n",
        "  sc=StandardScaler()\n",
        "  X_df=sc.fit_transform(X_df)\n",
        "\n",
        "  x_arr=[]\n",
        "  y_arr=[]\n",
        "\n",
        "  for j in range(len(X_df)-30):\n",
        "            window=30\n",
        "            df = X_df[j].copy()\n",
        "            df_len = len(df)\n",
        "            x_arr.append(X_df[j:(j+window)]) \n",
        "            y_arr.append(mode(upsampled_df.iloc[j:(j+window)])[0])\n",
        "  final_x_val.append(np.array(x_arr))\n",
        "  final_y_val.append(np.array(y_arr).reshape(-1,1))\n",
        "\n"
      ],
      "execution_count": 14,
      "outputs": []
    },
    {
      "cell_type": "code",
      "metadata": {
        "id": "o_UKu6-zGAlB"
      },
      "source": [
        "valX, valY = np.concatenate(final_x_val), np.concatenate(final_y_val)"
      ],
      "execution_count": 15,
      "outputs": []
    },
    {
      "cell_type": "code",
      "metadata": {
        "colab": {
          "base_uri": "https://localhost:8080/"
        },
        "id": "UDotbVymGn3y",
        "outputId": "60e28006-767e-449f-b160-068fdb67faaa"
      },
      "source": [
        "valX.shape, valY.shape"
      ],
      "execution_count": 16,
      "outputs": [
        {
          "output_type": "execute_result",
          "data": {
            "text/plain": [
              "((98380, 30, 6), (98380, 1))"
            ]
          },
          "metadata": {
            "tags": []
          },
          "execution_count": 16
        }
      ]
    },
    {
      "cell_type": "code",
      "metadata": {
        "id": "jjrzBm6UGn6L"
      },
      "source": [
        "final_x_test = []\n",
        "final_y_test =[]"
      ],
      "execution_count": 17,
      "outputs": []
    },
    {
      "cell_type": "code",
      "metadata": {
        "id": "mALE0xKgGn9D"
      },
      "source": [
        "## preprocessing for test data\n",
        "for i in range(len(y_test_files)):\n",
        "  X_df = pd.read_csv(X_test_files[i])\n",
        "  y_df = pd.read_csv(y_test_files[i])\n",
        "  a=[]\n",
        "  for i in range(0, len(y_df)):\n",
        "    a+=[y_df['0'][i]] * 4\n",
        "  upsampled_df = pd.DataFrame(a)\n",
        "  diff = X_df.shape[0] - upsampled_df.shape[0]\n",
        "  X_df = X_df.iloc[:-diff,:]\n",
        "\n",
        "  sc=StandardScaler()\n",
        "  X_df=sc.fit_transform(X_df)\n",
        "\n",
        "  x_arr=[]\n",
        "  y_arr=[]\n",
        "\n",
        "  for j in range(len(X_df)-30):\n",
        "            window=30\n",
        "            df = X_df[j].copy()\n",
        "            df_len = len(df)\n",
        "            x_arr.append(X_df[j:(j+window)]) \n",
        "            y_arr.append(mode(upsampled_df.iloc[j:(j+window)])[0])\n",
        "  final_x_test.append(np.array(x_arr))\n",
        "  final_y_test.append(np.array(y_arr).reshape(-1,1))\n",
        "\n"
      ],
      "execution_count": 18,
      "outputs": []
    },
    {
      "cell_type": "code",
      "metadata": {
        "id": "dvDUc03-Gn_N"
      },
      "source": [
        "testX, testY = np.concatenate(final_x_test), np.concatenate(final_y_test)"
      ],
      "execution_count": 19,
      "outputs": []
    },
    {
      "cell_type": "code",
      "metadata": {
        "colab": {
          "base_uri": "https://localhost:8080/"
        },
        "id": "Lxx3p9gIHCep",
        "outputId": "4a10f630-4301-4792-ffc1-35e2b4523d46"
      },
      "source": [
        "testX.shape, testY.shape"
      ],
      "execution_count": 20,
      "outputs": [
        {
          "output_type": "execute_result",
          "data": {
            "text/plain": [
              "((115132, 30, 6), (115132, 1))"
            ]
          },
          "metadata": {
            "tags": []
          },
          "execution_count": 20
        }
      ]
    },
    {
      "cell_type": "code",
      "metadata": {
        "colab": {
          "base_uri": "https://localhost:8080/"
        },
        "id": "WNg1VYdUHChR",
        "outputId": "b7929005-92d8-4688-fe7f-acc521e039cd"
      },
      "source": [
        "from sklearn.utils import class_weight\n",
        "\n",
        "label_weights = class_weight.compute_class_weight('balanced', np.unique(trainY), trainY.ravel())\n",
        "print(label_weights)\n",
        "label_weights = {i:label_weights[i] for i in range(len(label_weights))} # Create dictionary\n",
        "print(label_weights)"
      ],
      "execution_count": 21,
      "outputs": [
        {
          "output_type": "stream",
          "text": [
            "[0.33743318 6.08652052 4.65799658 1.52098606]\n",
            "{0: 0.33743317764132047, 1: 6.08652052238806, 2: 4.657996580811212, 3: 1.520986056326796}\n"
          ],
          "name": "stdout"
        }
      ]
    },
    {
      "cell_type": "code",
      "metadata": {
        "id": "OoTGYmwRWH6L"
      },
      "source": [
        ""
      ],
      "execution_count": 21,
      "outputs": []
    },
    {
      "cell_type": "code",
      "metadata": {
        "id": "SP9YWqb8Hi56"
      },
      "source": [
        "from keras import utils as np_utils\n",
        "hot_y_train = np_utils.to_categorical(trainY)\n",
        "hot_y_val = np_utils.to_categorical(valY)\n",
        "hot_y_test = np_utils.to_categorical(testY)\n"
      ],
      "execution_count": 22,
      "outputs": []
    },
    {
      "cell_type": "code",
      "metadata": {
        "id": "LZKHVqifHCjj"
      },
      "source": [
        "timestep, features, n_outputs = trainX.shape[1], trainX.shape[2] , hot_y_train.shape[1]\n",
        "model_LSTM = Sequential()\n",
        "model_LSTM.add(InputLayer(input_shape=(timestep, features)))\n",
        "model_LSTM.add(LSTM(units=125, activation='relu'))\n",
        "model_LSTM.add(Dropout(0.5))\n",
        "model_LSTM.add(Dense(units = 125, activation = 'relu'))\n",
        "model_LSTM.add(Dense(n_outputs, activation='softmax')) # output layer\n",
        "model_LSTM.compile(loss='categorical_crossentropy', optimizer=Adam(learning_rate=0.001), metrics=['accuracy'])"
      ],
      "execution_count": 30,
      "outputs": []
    },
    {
      "cell_type": "code",
      "metadata": {
        "colab": {
          "base_uri": "https://localhost:8080/",
          "height": 533
        },
        "id": "xh6rZXUGP5-5",
        "outputId": "ddb17d7d-799f-45c3-c30b-d4430cb6cb04"
      },
      "source": [
        "from keras.utils.vis_utils import plot_model\n",
        "plot_model(model_LSTM, to_file='model_plot.png', show_shapes=True, show_layer_names=True)"
      ],
      "execution_count": 31,
      "outputs": [
        {
          "output_type": "execute_result",
          "data": {
            "image/png": "[encoded data removed]",
            "text/plain": [
              "<IPython.core.display.Image object>"
            ]
          },
          "metadata": {
            "tags": []
          },
          "execution_count": 31
        }
      ]
    },
    {
      "cell_type": "code",
      "metadata": {
        "colab": {
          "base_uri": "https://localhost:8080/"
        },
        "id": "vG7M6u9xXAm6",
        "outputId": "008b4eb8-06fe-49c8-daae-6c0274fbef7a"
      },
      "source": [
        "history = model_LSTM.fit(trainX, hot_y_train, epochs = 10, batch_size = 256,\n",
        "                   validation_data = (valX, hot_y_val), class_weight = label_weights,\n",
        "                   verbose = 1, shuffle = True)"
      ],
      "execution_count": 32,
      "outputs": [
        {
          "output_type": "stream",
          "text": [
            "Epoch 1/10\n",
            "3875/3875 [==============================] - 485s 125ms/step - loss: 0.5769 - accuracy: 0.6292 - val_loss: 0.4687 - val_accuracy: 0.8306\n",
            "Epoch 2/10\n",
            "3875/3875 [==============================] - 491s 127ms/step - loss: 0.2100 - accuracy: 0.8736 - val_loss: 0.4008 - val_accuracy: 0.8570\n",
            "Epoch 3/10\n",
            "3875/3875 [==============================] - 495s 128ms/step - loss: 0.1599 - accuracy: 0.9022 - val_loss: 0.2499 - val_accuracy: 0.9067\n",
            "Epoch 4/10\n",
            "3875/3875 [==============================] - 484s 125ms/step - loss: 0.1281 - accuracy: 0.9194 - val_loss: 0.2017 - val_accuracy: 0.9292\n",
            "Epoch 5/10\n",
            "3875/3875 [==============================] - 482s 124ms/step - loss: 0.1086 - accuracy: 0.9298 - val_loss: 0.2615 - val_accuracy: 0.9037\n",
            "Epoch 6/10\n",
            "3875/3875 [==============================] - 477s 123ms/step - loss: 0.2007 - accuracy: 0.9152 - val_loss: 0.2132 - val_accuracy: 0.9223\n",
            "Epoch 7/10\n",
            "3875/3875 [==============================] - 475s 123ms/step - loss: 0.0887 - accuracy: 0.9415 - val_loss: 0.1807 - val_accuracy: 0.9403\n",
            "Epoch 8/10\n",
            "3875/3875 [==============================] - 487s 126ms/step - loss: 0.0799 - accuracy: 0.9468 - val_loss: 0.2270 - val_accuracy: 0.9200\n",
            "Epoch 9/10\n",
            "3875/3875 [==============================] - 491s 127ms/step - loss: 0.0825 - accuracy: 0.9478 - val_loss: 0.1830 - val_accuracy: 0.9384\n",
            "Epoch 10/10\n",
            "3875/3875 [==============================] - 481s 124ms/step - loss: 0.0686 - accuracy: 0.9544 - val_loss: 0.2139 - val_accuracy: 0.9281\n"
          ],
          "name": "stdout"
        }
      ]
    },
    {
      "cell_type": "code",
      "metadata": {
        "colab": {
          "base_uri": "https://localhost:8080/",
          "height": 590
        },
        "id": "s7SYSCn7QS75",
        "outputId": "c752edc0-ca04-4744-dbb4-bdef42bc4747"
      },
      "source": [
        "print(history.history.keys())\n",
        "import matplotlib.pyplot as plt\n",
        "# summarize history for accuracy\n",
        "plt.plot(history.history['accuracy'], color='red')\n",
        "plt.plot(history.history['val_accuracy'], color='blue')\n",
        "plt.title('model accuracy')\n",
        "plt.ylabel('accuracy')\n",
        "plt.xlabel('epoch')\n",
        "plt.legend(['train', 'validation'], loc='upper left')\n",
        "plt.show()\n",
        "# summarize history for loss\n",
        "plt.plot(history.history['loss'], color='red')\n",
        "plt.plot(history.history['val_loss'], color='blue')\n",
        "plt.title('model loss')\n",
        "plt.ylabel('loss')\n",
        "plt.xlabel('epoch')\n",
        "plt.legend(['train', 'validation'], loc='upper left')\n",
        "plt.show()"
      ],
      "execution_count": 26,
      "outputs": [
        {
          "output_type": "stream",
          "text": [
            "dict_keys(['loss', 'accuracy', 'val_loss', 'val_accuracy'])\n"
          ],
          "name": "stdout"
        },
        {
          "output_type": "display_data",
          "data": {
            "image/png": "[encoded data removed]",
            "text/plain": [
              "<Figure size 432x288 with 1 Axes>"
            ]
          },
          "metadata": {
            "tags": [],
            "needs_background": "light"
          }
        },
        {
          "output_type": "display_data",
          "data": {
            "image/png": "[encoded data removed]",
            "text/plain": [
              "<Figure size 432x288 with 1 Axes>"
            ]
          },
          "metadata": {
            "tags": [],
            "needs_background": "light"
          }
        }
      ]
    },
    {
      "cell_type": "code",
      "metadata": {
        "colab": {
          "base_uri": "https://localhost:8080/"
        },
        "id": "oubLXWNUXVzZ",
        "outputId": "2222ae15-6f9b-49f0-df45-fc3795f58ec6"
      },
      "source": [
        "from sklearn.metrics import confusion_matrix,accuracy_score,classification_report\n",
        "\n",
        "y_pred = model_LSTM.predict(testX, batch_size = 256, verbose = 1)\n",
        "y_test_bool = np.argmax(y_pred, axis = 1)\n",
        "print(classification_report(testY, y_test_bool))"
      ],
      "execution_count": 27,
      "outputs": [
        {
          "output_type": "stream",
          "text": [
            "450/450 [==============================] - 21s 46ms/step\n",
            "              precision    recall  f1-score   support\n",
            "\n",
            "         0.0       0.97      0.94      0.96     90937\n",
            "         1.0       0.83      0.97      0.90      6247\n",
            "         2.0       0.82      0.98      0.89      9171\n",
            "         3.0       0.77      0.74      0.75      8777\n",
            "\n",
            "    accuracy                           0.93    115132\n",
            "   macro avg       0.85      0.91      0.87    115132\n",
            "weighted avg       0.94      0.93      0.93    115132\n",
            "\n"
          ],
          "name": "stdout"
        }
      ]
    },
    {
      "cell_type": "code",
      "metadata": {
        "colab": {
          "base_uri": "https://localhost:8080/"
        },
        "id": "0Zo66HUMHEMl",
        "outputId": "e89bdb71-6eb5-4fe3-abfa-3442ee22296b"
      },
      "source": [
        "print(confusion_matrix(testY, y_test_bool))"
      ],
      "execution_count": 28,
      "outputs": [
        {
          "output_type": "stream",
          "text": [
            "[[85871  1212  1902  1952]\n",
            " [  126  6046    48    27]\n",
            " [  173     0  8991     7]\n",
            " [ 2213     3    54  6507]]\n"
          ],
          "name": "stdout"
        }
      ]
    },
    {
      "cell_type": "code",
      "metadata": {
        "colab": {
          "base_uri": "https://localhost:8080/"
        },
        "id": "pS7JwvTD1QKr",
        "outputId": "6e275373-b6e6-428f-ba3e-f73a972e1dff"
      },
      "source": [
        "cd .."
      ],
      "execution_count": null,
      "outputs": [
        {
          "output_type": "stream",
          "text": [
            "/content/gdrive/My Drive\n"
          ],
          "name": "stdout"
        }
      ]
    },
    {
      "cell_type": "code",
      "metadata": {
        "colab": {
          "base_uri": "https://localhost:8080/"
        },
        "id": "WqX2uRd-1dIg",
        "outputId": "076f32de-f190-4b90-c9e2-8cd0ef5b9b7b"
      },
      "source": [
        "cd 'TestData'"
      ],
      "execution_count": null,
      "outputs": [
        {
          "output_type": "stream",
          "text": [
            "/content/gdrive/My Drive/TestData\n"
          ],
          "name": "stdout"
        }
      ]
    },
    {
      "cell_type": "code",
      "metadata": {
        "colab": {
          "base_uri": "https://localhost:8080/"
        },
        "id": "ZE-MguaHvt1s",
        "outputId": "5e50a664-2ed7-4d76-e340-992bd20b92cb"
      },
      "source": [
        "input_data = pd.read_csv('subject_009_01__x.csv')\n",
        "df=sc.fit_transform(input_data)\n",
        "y_frame = pd.read_csv('subject_009_01__y_time.csv')\n",
        "addl_rows = y_frame.shape[0] * 4 - df.shape[0] + 30\n",
        "addl_rows_df = pd.DataFrame(df[-addl_rows:])\n",
        "df = pd.DataFrame(df)\n",
        "df = df.append(addl_rows_df)\n",
        "X_values = []\n",
        "for i in range(0, len(df) - 30, 1):\n",
        "    value = df.iloc[i:(i + 30)].values\n",
        "    X_values.append(value)\n",
        "X_test = np.array(X_values)\n",
        "y_test = model_LSTM.predict(X_test, batch_size = 64, verbose = 1)\n",
        "y_test_class = np.argmax(y_test, axis = 1)\n",
        "output_actual = []\n",
        "for i in range(0, y_test_class.shape[0], 4):\n",
        "    a = list(y_test_class[i:i + 4])\n",
        "    output_actual.append(max(a, key = a.count))\n",
        "y_actual = np.array(output_actual)\n",
        "print(y_actual.size)\n",
        "y_series = pd.Series(y_actual)"
      ],
      "execution_count": null,
      "outputs": [
        {
          "output_type": "stream",
          "text": [
            "594/594 [==============================] - 10s 18ms/step\n",
            "9497\n"
          ],
          "name": "stdout"
        }
      ]
    },
    {
      "cell_type": "code",
      "metadata": {
        "colab": {
          "base_uri": "https://localhost:8080/",
          "height": 101
        },
        "id": "QGxMC_s_vt6w",
        "outputId": "dcc43bdb-c2bb-44ca-9f50-51f7f17f6a62"
      },
      "source": [
        "from google.colab import files\n",
        "y_series.to_csv('subject_009_01__y_prediction.csv') \n",
        "files.download('subject_009_01__y_prediction.csv')\n",
        "y_series.value_counts()"
      ],
      "execution_count": null,
      "outputs": [
        {
          "output_type": "display_data",
          "data": {
            "application/javascript": [
              "\n",
              "    async function download(id, filename, size) {\n",
              "      if (!google.colab.kernel.accessAllowed) {\n",
              "        return;\n",
              "      }\n",
              "      const div = document.createElement('div');\n",
              "      const label = document.createElement('label');\n",
              "      label.textContent = `Downloading \"${filename}\": `;\n",
              "      div.appendChild(label);\n",
              "      const progress = document.createElement('progress');\n",
              "      progress.max = size;\n",
              "      div.appendChild(progress);\n",
              "      document.body.appendChild(div);\n",
              "\n",
              "      const buffers = [];\n",
              "      let downloaded = 0;\n",
              "\n",
              "      const channel = await google.colab.kernel.comms.open(id);\n",
              "      // Send a message to notify the kernel that we're ready.\n",
              "      channel.send({})\n",
              "\n",
              "      for await (const message of channel.messages) {\n",
              "        // Send a message to notify the kernel that we're ready.\n",
              "        channel.send({})\n",
              "        if (message.buffers) {\n",
              "          for (const buffer of message.buffers) {\n",
              "            buffers.push(buffer);\n",
              "            downloaded += buffer.byteLength;\n",
              "            progress.value = downloaded;\n",
              "          }\n",
              "        }\n",
              "      }\n",
              "      const blob = new Blob(buffers, {type: 'application/binary'});\n",
              "      const a = document.createElement('a');\n",
              "      a.href = window.URL.createObjectURL(blob);\n",
              "      a.download = filename;\n",
              "      div.appendChild(a);\n",
              "      a.click();\n",
              "      div.remove();\n",
              "    }\n",
              "  "
            ],
            "text/plain": [
              "<IPython.core.display.Javascript object>"
            ]
          },
          "metadata": {
            "tags": []
          }
        },
        {
          "output_type": "display_data",
          "data": {
            "application/javascript": [
              "download(\"download_c65ca052-5aa0-4735-8b35-0c1247460864\", \"subject_009_01__y_prediction.csv\", 65372)"
            ],
            "text/plain": [
              "<IPython.core.display.Javascript object>"
            ]
          },
          "metadata": {
            "tags": []
          }
        },
        {
          "output_type": "execute_result",
          "data": {
            "text/plain": [
              "0    6390\n",
              "3    2490\n",
              "1     410\n",
              "2     207\n",
              "dtype: int64"
            ]
          },
          "metadata": {
            "tags": []
          },
          "execution_count": 174
        }
      ]
    },
    {
      "cell_type": "code",
      "metadata": {
        "colab": {
          "base_uri": "https://localhost:8080/"
        },
        "id": "ZPhDk7pkx38C",
        "outputId": "1c19b488-32df-4578-ab62-bc074202fcfd"
      },
      "source": [
        "input_data = pd.read_csv('subject_010_01__x.csv')\n",
        "df=sc.fit_transform(input_data)\n",
        "y_frame = pd.read_csv('subject_010_01__y_time.csv')\n",
        "addl_rows = y_frame.shape[0] * 4 - df.shape[0] + 30\n",
        "addl_rows_df = pd.DataFrame(df[-addl_rows:])\n",
        "df = pd.DataFrame(df)\n",
        "df = df.append(addl_rows_df)\n",
        "X_values = []\n",
        "for i in range(0, len(df) - 30, 1):\n",
        "    value = df.iloc[i:(i + 30)].values\n",
        "    X_values.append(value)\n",
        "X_test = np.array(X_values)\n",
        "y_test = model_LSTM.predict(X_test, batch_size = 64, verbose = 1)\n",
        "y_test_class = np.argmax(y_test, axis = 1)\n",
        "output_actual = []\n",
        "for i in range(0, y_test_class.shape[0], 4):\n",
        "    a = list(y_test_bool[i:i + 4])\n",
        "    output_actual.append(max(a, key = a.count))\n",
        "y_actual = np.array(output_actual)\n",
        "print(y_actual.size)\n",
        "y_series = pd.Series(y_actual)"
      ],
      "execution_count": null,
      "outputs": [
        {
          "output_type": "stream",
          "text": [
            "767/767 [==============================] - 14s 18ms/step\n",
            "12269\n"
          ],
          "name": "stdout"
        }
      ]
    },
    {
      "cell_type": "code",
      "metadata": {
        "colab": {
          "base_uri": "https://localhost:8080/",
          "height": 101
        },
        "id": "BLPvBPdysA12",
        "outputId": "0ee062ff-aa00-4767-8f14-8753f447e343"
      },
      "source": [
        "y_series.to_csv('subject_010_01__y_prediction.csv') \n",
        "files.download('subject_010_01__y_prediction.csv')\n",
        "y_series.value_counts()"
      ],
      "execution_count": null,
      "outputs": [
        {
          "output_type": "display_data",
          "data": {
            "application/javascript": [
              "\n",
              "    async function download(id, filename, size) {\n",
              "      if (!google.colab.kernel.accessAllowed) {\n",
              "        return;\n",
              "      }\n",
              "      const div = document.createElement('div');\n",
              "      const label = document.createElement('label');\n",
              "      label.textContent = `Downloading \"${filename}\": `;\n",
              "      div.appendChild(label);\n",
              "      const progress = document.createElement('progress');\n",
              "      progress.max = size;\n",
              "      div.appendChild(progress);\n",
              "      document.body.appendChild(div);\n",
              "\n",
              "      const buffers = [];\n",
              "      let downloaded = 0;\n",
              "\n",
              "      const channel = await google.colab.kernel.comms.open(id);\n",
              "      // Send a message to notify the kernel that we're ready.\n",
              "      channel.send({})\n",
              "\n",
              "      for await (const message of channel.messages) {\n",
              "        // Send a message to notify the kernel that we're ready.\n",
              "        channel.send({})\n",
              "        if (message.buffers) {\n",
              "          for (const buffer of message.buffers) {\n",
              "            buffers.push(buffer);\n",
              "            downloaded += buffer.byteLength;\n",
              "            progress.value = downloaded;\n",
              "          }\n",
              "        }\n",
              "      }\n",
              "      const blob = new Blob(buffers, {type: 'application/binary'});\n",
              "      const a = document.createElement('a');\n",
              "      a.href = window.URL.createObjectURL(blob);\n",
              "      a.download = filename;\n",
              "      div.appendChild(a);\n",
              "      a.click();\n",
              "      div.remove();\n",
              "    }\n",
              "  "
            ],
            "text/plain": [
              "<IPython.core.display.Javascript object>"
            ]
          },
          "metadata": {
            "tags": []
          }
        },
        {
          "output_type": "display_data",
          "data": {
            "application/javascript": [
              "download(\"download_dc20051b-0ae3-4d83-92df-64008fa5efaf\", \"subject_010_01__y_prediction.csv\", 87045)"
            ],
            "text/plain": [
              "<IPython.core.display.Javascript object>"
            ]
          },
          "metadata": {
            "tags": []
          }
        },
        {
          "output_type": "execute_result",
          "data": {
            "text/plain": [
              "0    8624\n",
              "2    1683\n",
              "1    1257\n",
              "3     705\n",
              "dtype: int64"
            ]
          },
          "metadata": {
            "tags": []
          },
          "execution_count": 176
        }
      ]
    },
    {
      "cell_type": "code",
      "metadata": {
        "colab": {
          "base_uri": "https://localhost:8080/"
        },
        "id": "houKvAFA3jVr",
        "outputId": "1a7fdd62-26b4-494f-d2aa-108d7dfdbf17"
      },
      "source": [
        "input_data = pd.read_csv('subject_011_01__x.csv')\n",
        "df=sc.fit_transform(input_data)\n",
        "y_frame = pd.read_csv('subject_011_01__y_time.csv')\n",
        "addl_rows = y_frame.shape[0] * 4 - df.shape[0] + 30\n",
        "addl_rows_df = pd.DataFrame(df[-addl_rows:])\n",
        "df = pd.DataFrame(df)\n",
        "df = df.append(addl_rows_df)\n",
        "X_values = []\n",
        "for i in range(0, len(df) - 30, 1):\n",
        "    value = df.iloc[i:(i + 30)].values\n",
        "    X_values.append(value)\n",
        "X_test = np.array(X_values)\n",
        "y_test = model_LSTM.predict(X_test, batch_size = 64, verbose = 1)\n",
        "y_test_class = np.argmax(y_test, axis = 1)\n",
        "output_actual = []\n",
        "for i in range(0, y_test_class.shape[0], 4):\n",
        "    a = list(y_test_class[i:i + 4])\n",
        "    output_actual.append(max(a, key = a.count))\n",
        "y_actual = np.array(output_actual)\n",
        "print(y_actual.size)\n",
        "y_series = pd.Series(y_actual)"
      ],
      "execution_count": null,
      "outputs": [
        {
          "output_type": "stream",
          "text": [
            "809/809 [==============================] - 14s 18ms/step\n",
            "12939\n"
          ],
          "name": "stdout"
        }
      ]
    },
    {
      "cell_type": "code",
      "metadata": {
        "colab": {
          "base_uri": "https://localhost:8080/",
          "height": 101
        },
        "id": "Z2iWBKPu3jZY",
        "outputId": "0c7f667b-04e7-4497-c051-ec19c2408f01"
      },
      "source": [
        "y_series.to_csv('subject_011_01__y_prediction.csv') \n",
        "files.download('subject_011_01__y_prediction.csv')\n",
        "y_series.value_counts()"
      ],
      "execution_count": null,
      "outputs": [
        {
          "output_type": "display_data",
          "data": {
            "application/javascript": [
              "\n",
              "    async function download(id, filename, size) {\n",
              "      if (!google.colab.kernel.accessAllowed) {\n",
              "        return;\n",
              "      }\n",
              "      const div = document.createElement('div');\n",
              "      const label = document.createElement('label');\n",
              "      label.textContent = `Downloading \"${filename}\": `;\n",
              "      div.appendChild(label);\n",
              "      const progress = document.createElement('progress');\n",
              "      progress.max = size;\n",
              "      div.appendChild(progress);\n",
              "      document.body.appendChild(div);\n",
              "\n",
              "      const buffers = [];\n",
              "      let downloaded = 0;\n",
              "\n",
              "      const channel = await google.colab.kernel.comms.open(id);\n",
              "      // Send a message to notify the kernel that we're ready.\n",
              "      channel.send({})\n",
              "\n",
              "      for await (const message of channel.messages) {\n",
              "        // Send a message to notify the kernel that we're ready.\n",
              "        channel.send({})\n",
              "        if (message.buffers) {\n",
              "          for (const buffer of message.buffers) {\n",
              "            buffers.push(buffer);\n",
              "            downloaded += buffer.byteLength;\n",
              "            progress.value = downloaded;\n",
              "          }\n",
              "        }\n",
              "      }\n",
              "      const blob = new Blob(buffers, {type: 'application/binary'});\n",
              "      const a = document.createElement('a');\n",
              "      a.href = window.URL.createObjectURL(blob);\n",
              "      a.download = filename;\n",
              "      div.appendChild(a);\n",
              "      a.click();\n",
              "      div.remove();\n",
              "    }\n",
              "  "
            ],
            "text/plain": [
              "<IPython.core.display.Javascript object>"
            ]
          },
          "metadata": {
            "tags": []
          }
        },
        {
          "output_type": "display_data",
          "data": {
            "application/javascript": [
              "download(\"download_d1c35d55-8dbd-4aec-af9b-eb5a07e6ead8\", \"subject_011_01__y_prediction.csv\", 92405)"
            ],
            "text/plain": [
              "<IPython.core.display.Javascript object>"
            ]
          },
          "metadata": {
            "tags": []
          }
        },
        {
          "output_type": "execute_result",
          "data": {
            "text/plain": [
              "0    9084\n",
              "3    2582\n",
              "2     768\n",
              "1     505\n",
              "dtype: int64"
            ]
          },
          "metadata": {
            "tags": []
          },
          "execution_count": 178
        }
      ]
    },
    {
      "cell_type": "code",
      "metadata": {
        "colab": {
          "base_uri": "https://localhost:8080/"
        },
        "id": "IKRN74WD3jb7",
        "outputId": "0ab56f56-e444-4e3d-fec0-f8f45cc89d33"
      },
      "source": [
        "input_data = pd.read_csv('subject_012_01__x.csv')\n",
        "df=sc.fit_transform(input_data)\n",
        "y_frame = pd.read_csv('subject_012_01__y_time.csv')\n",
        "addl_rows = y_frame.shape[0] * 4 - df.shape[0] + 30\n",
        "addl_rows_df = pd.DataFrame(df[-addl_rows:])\n",
        "df = pd.DataFrame(df)\n",
        "df = df.append(addl_rows_df)\n",
        "X_values = []\n",
        "for i in range(0, len(df) - 30, 1):\n",
        "    value = df.iloc[i:(i + 30)].values\n",
        "    X_values.append(value)\n",
        "X_test = np.array(X_values)\n",
        "y_test = model_LSTM.predict(X_test, batch_size = 64, verbose = 1)\n",
        "y_test_class = np.argmax(y_test, axis = 1)\n",
        "output_actual = []\n",
        "for i in range(0, y_test_class.shape[0], 4):\n",
        "    a = list(y_test_class[i:i + 4])\n",
        "    output_actual.append(max(a, key = a.count))\n",
        "y_actual = np.array(output_actual)\n",
        "print(y_actual.size)\n",
        "y_series = pd.Series(y_actual)"
      ],
      "execution_count": null,
      "outputs": [
        {
          "output_type": "stream",
          "text": [
            "709/709 [==============================] - 13s 18ms/step\n",
            "11329\n"
          ],
          "name": "stdout"
        }
      ]
    },
    {
      "cell_type": "code",
      "metadata": {
        "id": "Zm8R3Q1E8K8n"
      },
      "source": [
        ""
      ],
      "execution_count": null,
      "outputs": []
    },
    {
      "cell_type": "code",
      "metadata": {
        "colab": {
          "base_uri": "https://localhost:8080/",
          "height": 101
        },
        "id": "jx3atSkJ3jgB",
        "outputId": "a3b8d245-cdaf-46a1-ca7c-6156a731dc75"
      },
      "source": [
        "y_series.to_csv('subject_012_01__y_prediction.csv') \n",
        "files.download('subject_012_01__y_prediction.csv')\n",
        "y_series.value_counts()"
      ],
      "execution_count": null,
      "outputs": [
        {
          "output_type": "display_data",
          "data": {
            "application/javascript": [
              "\n",
              "    async function download(id, filename, size) {\n",
              "      if (!google.colab.kernel.accessAllowed) {\n",
              "        return;\n",
              "      }\n",
              "      const div = document.createElement('div');\n",
              "      const label = document.createElement('label');\n",
              "      label.textContent = `Downloading \"${filename}\": `;\n",
              "      div.appendChild(label);\n",
              "      const progress = document.createElement('progress');\n",
              "      progress.max = size;\n",
              "      div.appendChild(progress);\n",
              "      document.body.appendChild(div);\n",
              "\n",
              "      const buffers = [];\n",
              "      let downloaded = 0;\n",
              "\n",
              "      const channel = await google.colab.kernel.comms.open(id);\n",
              "      // Send a message to notify the kernel that we're ready.\n",
              "      channel.send({})\n",
              "\n",
              "      for await (const message of channel.messages) {\n",
              "        // Send a message to notify the kernel that we're ready.\n",
              "        channel.send({})\n",
              "        if (message.buffers) {\n",
              "          for (const buffer of message.buffers) {\n",
              "            buffers.push(buffer);\n",
              "            downloaded += buffer.byteLength;\n",
              "            progress.value = downloaded;\n",
              "          }\n",
              "        }\n",
              "      }\n",
              "      const blob = new Blob(buffers, {type: 'application/binary'});\n",
              "      const a = document.createElement('a');\n",
              "      a.href = window.URL.createObjectURL(blob);\n",
              "      a.download = filename;\n",
              "      div.appendChild(a);\n",
              "      a.click();\n",
              "      div.remove();\n",
              "    }\n",
              "  "
            ],
            "text/plain": [
              "<IPython.core.display.Javascript object>"
            ]
          },
          "metadata": {
            "tags": []
          }
        },
        {
          "output_type": "display_data",
          "data": {
            "application/javascript": [
              "download(\"download_0f6a0368-fdb9-40b7-beb6-041cec6ab7c2\", \"subject_012_01__y_prediction.csv\", 79525)"
            ],
            "text/plain": [
              "<IPython.core.display.Javascript object>"
            ]
          },
          "metadata": {
            "tags": []
          }
        },
        {
          "output_type": "execute_result",
          "data": {
            "text/plain": [
              "0    8675\n",
              "3    1137\n",
              "2     887\n",
              "1     630\n",
              "dtype: int64"
            ]
          },
          "metadata": {
            "tags": []
          },
          "execution_count": 180
        }
      ]
    },
    {
      "cell_type": "code",
      "metadata": {
        "id": "nw6OXjlX7jYl"
      },
      "source": [
        "input_data = pd.read_csv('subject_012_01__x.csv')\n",
        "df=sc.fit_transform(input_data)\n",
        "y_frame = pd.read_csv('subject_012_01__y_time.csv')\n",
        "addl = y_frame.shape[0] * 4 - df.shape[0] + 30\n",
        "addl_df = pd.DataFrame(df[-addl:])\n",
        "df = pd.DataFrame(df)\n",
        "df = df.append(addl_df)\n",
        "X_values = []\n",
        "for i in range(0, len(df) - 30, 1):\n",
        "    value = df.iloc[i:(i + 30)].values\n",
        "    X_values.append(value)\n",
        "X_test = np.array(X_values)\n",
        "y_test = model_LSTM.predict(X_test, batch_size = 64, verbose = 1)\n",
        "y_test_bool = np.argmax(y_test, axis = 1)\n",
        "output_actual = []\n",
        "for i in range(0, y_test_bool.shape[0], 4):\n",
        "    a = list(y_test_bool[i:i + 4])\n",
        "    output_actual.append(max(a, key = a.count))\n",
        "y_actual = np.array(output_actual)\n",
        "print(y_actual.size)\n",
        "y_series = pd.Series(y_actual)"
      ],
      "execution_count": null,
      "outputs": []
    }
  ]
}